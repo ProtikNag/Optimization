{
 "cells": [
  {
   "cell_type": "markdown",
   "id": "ebbafcb9-750c-46da-9bf0-1b4276140301",
   "metadata": {},
   "source": [
    "# Imports"
   ]
  },
  {
   "cell_type": "code",
   "execution_count": 23,
   "id": "1cd59239-4087-49bb-9ee1-a1ec27c481fe",
   "metadata": {},
   "outputs": [],
   "source": [
    "import numpy as np\n",
    "from sklearn.decomposition import PCA"
   ]
  },
  {
   "cell_type": "markdown",
   "id": "d7c360b2-f99f-4319-8fa2-adb368f37b5e",
   "metadata": {},
   "source": [
    "# Solve Optimization Problem with Pseudo Inverse"
   ]
  },
  {
   "cell_type": "code",
   "execution_count": 5,
   "id": "eb9339c7-1623-4783-83d5-d15987742d02",
   "metadata": {},
   "outputs": [
    {
     "name": "stdout",
     "output_type": "stream",
     "text": [
      "Least squares solution:\n",
      "[0.85031684 0.74379175 1.25483816]\n"
     ]
    }
   ],
   "source": [
    "A = np.array([\n",
    "    [1, 1, 1],\n",
    "    [0, 0, 1],\n",
    "    [1, 0, 1],\n",
    "    [2, 0, 5],\n",
    "    [-7, 8, 0],\n",
    "    [1, 2, -1]\n",
    "])\n",
    "b = np.array([3, 1, 2, 8, 0, 1])\n",
    "\n",
    "ATA = np.dot(A.T, A)\n",
    "ATA_inv = np.linalg.inv(ATA)\n",
    "pseudo_inverse = np.dot(ATA_inv, A.T)\n",
    "x = np.dot(pseudo_inverse, b)\n",
    "\n",
    "print(\"Least squares solution:\")\n",
    "print(x)"
   ]
  },
  {
   "cell_type": "markdown",
   "id": "af6b8255-d353-466a-9a96-9546fc6068ee",
   "metadata": {},
   "source": [
    "# Verify"
   ]
  },
  {
   "cell_type": "markdown",
   "id": "d67224b3-3e3f-4ff4-a372-84478b2fe426",
   "metadata": {},
   "source": [
    "If we back calculate the b, it should be close to the original b vector. "
   ]
  },
  {
   "cell_type": "code",
   "execution_count": 6,
   "id": "2ce29a8b-8715-4aa6-a170-c17e5781365b",
   "metadata": {},
   "outputs": [
    {
     "name": "stdout",
     "output_type": "stream",
     "text": [
      "Computed values of Ax:\n",
      "[ 2.84894674e+00  1.25483816e+00  2.10515499e+00  7.97482446e+00\n",
      " -1.88388423e-03  1.08306217e+00]\n",
      "Original values of b:\n",
      "[3 1 2 8 0 1]\n"
     ]
    }
   ],
   "source": [
    "Ax = np.dot(A, x)\n",
    "print(\"Computed values of Ax:\")\n",
    "print(Ax)\n",
    "\n",
    "print(\"Original values of b:\")\n",
    "print(b)"
   ]
  },
  {
   "cell_type": "markdown",
   "id": "fbb4d25e-8623-4de9-9cb4-3a1937576692",
   "metadata": {},
   "source": [
    "# Ridge Regression"
   ]
  },
  {
   "cell_type": "code",
   "execution_count": 8,
   "id": "92188443-9bf7-4f1f-8ad3-4498f854c4a5",
   "metadata": {},
   "outputs": [
    {
     "name": "stdout",
     "output_type": "stream",
     "text": [
      "Lambda: 0.0, Residual Norm: 0.3261\n",
      "Lambda: 0.1, Residual Norm: 0.3283\n",
      "Lambda: 0.2, Residual Norm: 0.3346\n",
      "Lambda: 0.3, Residual Norm: 0.3446\n",
      "Lambda: 0.4, Residual Norm: 0.3577\n",
      "Lambda: 0.5, Residual Norm: 0.3736\n",
      "Lambda: 0.6, Residual Norm: 0.3918\n",
      "Lambda: 0.7, Residual Norm: 0.4117\n",
      "Lambda: 0.8, Residual Norm: 0.4331\n",
      "Lambda: 0.9, Residual Norm: 0.4557\n",
      "Lambda: 1.0, Residual Norm: 0.4791\n",
      "\n",
      "Best Lambda: 0.0\n",
      "With Minimum Residual Norm: 0.3261193458079796\n",
      "Best Solution x: [0.85031684 0.74379175 1.25483816]\n"
     ]
    }
   ],
   "source": [
    "I = np.eye(A.shape[1])\n",
    "\n",
    "lambda_values = np.arange(0, 1.1, 0.1)  # from 0 to 1 inclusive, step 0.1\n",
    "best_lambda = None\n",
    "min_residual = np.inf\n",
    "best_x = None\n",
    "\n",
    "for lambda_reg in lambda_values:\n",
    "    x = np.linalg.inv(A.T @ A + lambda_reg * I) @ A.T @ b\n",
    "    residual_norm = np.linalg.norm(A @ x - b)\n",
    "    \n",
    "    if residual_norm < min_residual:\n",
    "        min_residual = residual_norm\n",
    "        best_lambda = lambda_reg\n",
    "        best_x = x\n",
    "\n",
    "    print(f\"Lambda: {lambda_reg:.1f}, Residual Norm: {residual_norm:.4f}\")\n",
    "\n",
    "print(\"\\nBest Lambda:\", best_lambda)\n",
    "print(\"With Minimum Residual Norm:\", min_residual)\n",
    "print(\"Best Solution x:\", best_x)"
   ]
  },
  {
   "cell_type": "markdown",
   "id": "4d5835c0-3fd8-42e3-a0eb-ef53eb764381",
   "metadata": {},
   "source": [
    "# Simplex Algorithm"
   ]
  },
  {
   "cell_type": "code",
   "execution_count": 20,
   "id": "34303d6e-f9d9-4dce-b603-3fed03dafaae",
   "metadata": {},
   "outputs": [
    {
     "name": "stdout",
     "output_type": "stream",
     "text": [
      "[0.85031684 0.74379175 1.25483816] [0.10635383]\n"
     ]
    }
   ],
   "source": [
    "A = np.array([\n",
    "    [1, 1, 1],\n",
    "    [0, 0, 1],\n",
    "    [1, 0, 1],\n",
    "    [2, 0, 5],\n",
    "    [-7, 8, 0],\n",
    "    [1, 2, -1]\n",
    "])\n",
    "\n",
    "b = np.array([3, 1, 2, 8, 0, 1])\n",
    "\n",
    "x, residuals, rank, s = np.linalg.lstsq(A, b, rcond=None)\n",
    "print(x, residuals)"
   ]
  },
  {
   "cell_type": "markdown",
   "id": "e7022fd0-ea7a-44e7-b4ae-c4cf37679d68",
   "metadata": {},
   "source": [
    "# PCA"
   ]
  },
  {
   "cell_type": "code",
   "execution_count": 24,
   "id": "5b2131e3-f0a2-4ca7-a400-807409777952",
   "metadata": {},
   "outputs": [
    {
     "name": "stdout",
     "output_type": "stream",
     "text": [
      "[-0.93280352  3.12707109]\n"
     ]
    }
   ],
   "source": [
    "data = np.vstack([A, x.reshape(1, -1)])\n",
    "\n",
    "pca = PCA(n_components=2)\n",
    "data_reduced = pca.fit_transform(data.T)  \n",
    "\n",
    "pca_projection = data_reduced[-1]\n",
    "print(pca_projection)"
   ]
  },
  {
   "cell_type": "code",
   "execution_count": 25,
   "id": "4a9b6bd2-6458-4038-a087-5efc76ad1ef2",
   "metadata": {},
   "outputs": [
    {
     "data": {
      "text/plain": [
       "array([[-7.12766475, -1.85161667],\n",
       "       [ 8.06046827, -1.27545443],\n",
       "       [-0.93280352,  3.12707109]])"
      ]
     },
     "execution_count": 25,
     "metadata": {},
     "output_type": "execute_result"
    }
   ],
   "source": [
    "data_reduced"
   ]
  },
  {
   "cell_type": "code",
   "execution_count": null,
   "id": "5b928fae-b1be-45ac-aff2-abf2339591f2",
   "metadata": {},
   "outputs": [],
   "source": []
  }
 ],
 "metadata": {
  "kernelspec": {
   "display_name": "Python 3 (ipykernel)",
   "language": "python",
   "name": "python3"
  },
  "language_info": {
   "codemirror_mode": {
    "name": "ipython",
    "version": 3
   },
   "file_extension": ".py",
   "mimetype": "text/x-python",
   "name": "python",
   "nbconvert_exporter": "python",
   "pygments_lexer": "ipython3",
   "version": "3.10.13"
  }
 },
 "nbformat": 4,
 "nbformat_minor": 5
}
