{
 "cells": [
  {
   "cell_type": "markdown",
   "id": "d9599dcb-8e3a-43ef-98d0-269966072206",
   "metadata": {},
   "source": [
    "# Imports"
   ]
  },
  {
   "cell_type": "code",
   "execution_count": 6,
   "id": "340ca576-fc33-4106-bfdd-e09ad54c51c1",
   "metadata": {},
   "outputs": [],
   "source": [
    "import numpy as np"
   ]
  },
  {
   "cell_type": "markdown",
   "id": "8a2dda6d-a9e5-4b2e-ab96-682b15e9ff28",
   "metadata": {},
   "source": [
    "# Projection Functions"
   ]
  },
  {
   "cell_type": "code",
   "execution_count": 13,
   "id": "c88e2e2a-1919-4a11-b2c3-eaa50899f8e1",
   "metadata": {},
   "outputs": [],
   "source": [
    "def project_onto_sphere(point, center, radius):\n",
    "    vector_from_center = point - center\n",
    "    norm = np.linalg.norm(vector_from_center)\n",
    "    \n",
    "    return center + (vector_from_center / norm) * radius\n",
    "\n",
    "def project_onto_plane(point, normal, point_on_plane):\n",
    "    point_to_plane_vector = point - point_on_plane\n",
    "    projection_length = np.dot(point_to_plane_vector, normal)\n",
    "    \n",
    "    return point - projection_length * normal\n",
    "\n",
    "def project_onto_cylinder(point, radius):\n",
    "    xy_norm = np.linalg.norm(point[:2])\n",
    "    \n",
    "    if xy_norm == 0:\n",
    "        return np.array([radius, 0, point[2]])\n",
    "        \n",
    "    return np.array([point[0] / xy_norm * radius, point[1] / xy_norm * radius, point[2]])"
   ]
  },
  {
   "cell_type": "markdown",
   "id": "73c29e59-4597-4736-8c2d-17c0b2f5d7f7",
   "metadata": {},
   "source": [
    "# Main Function"
   ]
  },
  {
   "cell_type": "code",
   "execution_count": 14,
   "id": "b6c6046e-673c-444b-9124-2f6085446675",
   "metadata": {},
   "outputs": [
    {
     "name": "stdout",
     "output_type": "stream",
     "text": [
      "The point in the intersection of the sphere, plane, and cylinder is: [0.97437645 0.22492338 1.80070017]\n"
     ]
    }
   ],
   "source": [
    "def dykstras_algorithm(initial_point, iterations=1000):\n",
    "    x = np.array(initial_point, dtype=float)\n",
    "    z1, z2, z3 = np.zeros(3), np.zeros(3), np.zeros(3)\n",
    "    center_sphere = np.array([1, 1, 1])\n",
    "    radius_sphere = 2\n",
    "    normal_plane = np.array([1, 1, 1]) / np.sqrt(3)\n",
    "    point_on_plane = np.array([1, 1, 1])\n",
    "    radius_cylinder = 1\n",
    "\n",
    "    for _ in range(iterations):\n",
    "        y1 = project_onto_sphere(x + z1, center_sphere, radius_sphere)\n",
    "        z1 += x - y1\n",
    "        x = y1\n",
    "        \n",
    "        y2 = project_onto_plane(x + z2, normal_plane, point_on_plane)\n",
    "        z2 += x - y2\n",
    "        x = y2\n",
    "\n",
    "        y3 = project_onto_cylinder(x + z3, radius_cylinder)\n",
    "        z3 += x - y3\n",
    "        x = y3\n",
    "\n",
    "    return x\n",
    "\n",
    "initial_point = [3, 0, 0]  \n",
    "result_point = dykstras_algorithm(initial_point)\n",
    "\n",
    "print(\"The point in the intersection of the sphere, plane, and cylinder is:\", result_point)"
   ]
  },
  {
   "cell_type": "code",
   "execution_count": null,
   "id": "9fc85c13-1eda-456f-9574-db1f6d38f457",
   "metadata": {},
   "outputs": [],
   "source": []
  }
 ],
 "metadata": {
  "kernelspec": {
   "display_name": "Python 3 (ipykernel)",
   "language": "python",
   "name": "python3"
  },
  "language_info": {
   "codemirror_mode": {
    "name": "ipython",
    "version": 3
   },
   "file_extension": ".py",
   "mimetype": "text/x-python",
   "name": "python",
   "nbconvert_exporter": "python",
   "pygments_lexer": "ipython3",
   "version": "3.10.13"
  }
 },
 "nbformat": 4,
 "nbformat_minor": 5
}
