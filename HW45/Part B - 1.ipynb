{
 "cells": [
  {
   "cell_type": "code",
   "execution_count": 4,
   "id": "330596c9-a6d5-480e-b228-fc0c18ffcfe8",
   "metadata": {},
   "outputs": [
    {
     "name": "stdout",
     "output_type": "stream",
     "text": [
      "Transpose: [[0 1 2]\n",
      " [1 2 3]]\n",
      "Matrix A^T * A is:\n",
      " [[ 5  8]\n",
      " [ 8 14]]\n",
      "Inverse of A^T * A is:\n",
      " [[ 2.33333333 -1.33333333]\n",
      " [-1.33333333  0.83333333]]\n",
      "Generalized inverse A^dagger is:\n",
      " [[-1.33333333 -0.33333333  0.66666667]\n",
      " [ 0.83333333  0.33333333 -0.16666667]]\n",
      "Projection P_R(A) is:\n",
      " [[ 0.83333333  0.33333333 -0.16666667]\n",
      " [ 0.33333333  0.33333333  0.33333333]\n",
      " [-0.16666667  0.33333333  0.83333333]]\n"
     ]
    }
   ],
   "source": [
    "import numpy as np\n",
    "\n",
    "A = np.array([[0, 1],\n",
    "              [1, 2],\n",
    "              [2, 3]])\n",
    "\n",
    "# A^T * A\n",
    "A_T_A = A.T @ A\n",
    "\n",
    "A_dagger = np.linalg.inv(A_T_A) @ A.T\n",
    "P_R_A = A @ A_dagger\n",
    "A_T_A_inv = np.linalg.inv(A_T_A)\n",
    "\n",
    "print(\"Transpose:\", A.T)\n",
    "print(\"Matrix A^T * A is:\\n\", A_T_A)\n",
    "print(\"Inverse of A^T * A is:\\n\", A_T_A_inv)\n",
    "print(\"Generalized inverse A^dagger is:\\n\", A_dagger)\n",
    "print(\"Projection P_R(A) is:\\n\", P_R_A)"
   ]
  },
  {
   "cell_type": "code",
   "execution_count": null,
   "id": "208f2686-cc97-415e-877a-5e45f48ededa",
   "metadata": {},
   "outputs": [],
   "source": []
  }
 ],
 "metadata": {
  "kernelspec": {
   "display_name": "Python 3 (ipykernel)",
   "language": "python",
   "name": "python3"
  },
  "language_info": {
   "codemirror_mode": {
    "name": "ipython",
    "version": 3
   },
   "file_extension": ".py",
   "mimetype": "text/x-python",
   "name": "python",
   "nbconvert_exporter": "python",
   "pygments_lexer": "ipython3",
   "version": "3.10.13"
  }
 },
 "nbformat": 4,
 "nbformat_minor": 5
}
